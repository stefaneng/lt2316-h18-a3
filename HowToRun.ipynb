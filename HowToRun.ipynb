{
 "cells": [
  {
   "cell_type": "markdown",
   "metadata": {},
   "source": [
    "# Example usage of your code"
   ]
  },
  {
   "cell_type": "code",
   "execution_count": 32,
   "metadata": {},
   "outputs": [
    {
     "name": "stdout",
     "output_type": "stream",
     "text": [
      "The autoreload extension is already loaded. To reload it, use:\n",
      "  %reload_ext autoreload\n",
      "__________________________________________________________________________________________________\n",
      "Layer (type)                    Output Shape         Param #     Connected to                     \n",
      "==================================================================================================\n",
      "input_1 (InputLayer)            (None, 5)            0                                            \n",
      "__________________________________________________________________________________________________\n",
      "embedding_1 (Embedding)         (None, 5, 50)        500000      input_1[0][0]                    \n",
      "__________________________________________________________________________________________________\n",
      "lstm_1 (LSTM)                   (None, 50)           20200       embedding_1[0][0]                \n",
      "__________________________________________________________________________________________________\n",
      "word_prediction (Dense)         (None, 10000)        510000      lstm_1[0][0]                     \n",
      "__________________________________________________________________________________________________\n",
      "image_vec_prediction (Dense)    (None, 5000)         255000      lstm_1[0][0]                     \n",
      "==================================================================================================\n",
      "Total params: 1,285,200\n",
      "Trainable params: 1,285,200\n",
      "Non-trainable params: 0\n",
      "__________________________________________________________________________________________________\n",
      "Original sentence: A toilet standingz\n",
      "Filtered: ['a', 'toilet', 'standingz']\n",
      "standingz missing from tokenizer\n",
      "Window size = 5\n",
      "Padded sequence: [[ 1 78  0  0  0]]\n",
      "Predicting using words:  a toilet\n",
      "Predicting: A toilet standingz...\n",
      "Word Predictions:\n",
      "and: 0.2966192960739136\n",
      "is: 0.10993193835020065\n",
      "an: 0.10485517978668213\n",
      "with: 0.06317196041345596\n",
      "man: 0.059790849685668945\n",
      "Vector prediction: [0.3843376  0.16364004 0.49450356 ... 0.18723118 0.232877   0.3941381 ]\n"
     ]
    }
   ],
   "source": [
    "%load_ext autoreload\n",
    "%autoreload 2\n",
    "\n",
    "import prediction\n",
    "\n",
    "ps = prediction.PredictiveSearch(\"./models/assign3.model.hdf5\", \"./data/tokenizer10000.pickle\")\n",
    "ps.predictive_search(\"A toilet standing\")"
   ]
  },
  {
   "cell_type": "markdown",
   "metadata": {},
   "source": [
    "Of course, it does nothing, because you haven't implemented it yet! But it should print/display the things mentioned in the comments to prediction.PredictiveSearch.predictive_search()."
   ]
  }
 ],
 "metadata": {
  "kernelspec": {
   "display_name": "Python 3",
   "language": "python",
   "name": "python3"
  },
  "language_info": {
   "codemirror_mode": {
    "name": "ipython",
    "version": 3
   },
   "file_extension": ".py",
   "mimetype": "text/x-python",
   "name": "python",
   "nbconvert_exporter": "python",
   "pygments_lexer": "ipython3",
   "version": "3.6.6"
  }
 },
 "nbformat": 4,
 "nbformat_minor": 2
}
